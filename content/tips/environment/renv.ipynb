{
 "cells": [
  {
   "cell_type": "markdown",
   "metadata": {},
   "source": [
    "# renv\n",
    "\n",
    "## Rのパッケージのバージョン管理\n",
    "\n",
    "Rのパッケージのバージョン管理は非常に難しいです。\n",
    "というのも、システムで一元管理されているため、プロジェクトごとに切り分ける事が困難であるからです。\n",
    "\n",
    "とはいえ、パッケージのバージョン管理をきちんと行わないと、バージョンあげたり、他の環境になったりした時にコードが動かなくなる事があります。では、どのようにすればパッケージのバージョン管理を上手にできるのかを次の章で書きます。\n",
    "\n",
    "## renv\n",
    "\n",
    "最近、RStudio本家から[renv](https://rstudio.github.io/renv/)というパッケージバージョン管理を行う事ができるパッケージが開発されています。以前はPackratというパッケージがありましたが、少し使い勝手が悪かったです。\n",
    "\n",
    "renvのプロジェクトページにも以下のように書かれており、Packratに取って代わるパッケージとして開発が進められています。\n",
    "> The goal is for renv to be a robust, stable replacement for the Packrat package, with fewer surprises and better default behaviors.\n",
    "\n",
    "## 使い方\n",
    "\n",
    "以前まとめた[資料](https://speakerdeck.com/black_tank_top/renv-version-control)に基本的な使い方が書かれています。\n",
    "\n",
    "<script async class=\"speakerdeck-embed\" data-id=\"2182379304ad4e72ae6aeef562e7173b\" data-ratio=\"1.77777777777778\" src=\"//speakerdeck.com/assets/embed.js\"></script>\n",
    "\n",
    "## コマンド\n",
    "\n",
    "基本的には、\n",
    "1. 初期化\n",
    "1. 必要なパッケージのインストール\n",
    "1. library(pkg)を書いて保存*1\n",
    "1. インストール状況の確認\n",
    "1. インストール状況を書き出し\n",
    "2~5を繰り返しながら作業する\n",
    "\n",
    "```R\n",
    "# 初期化 (まっさらなRscriptを先に開いておく) \n",
    "> renv::init()\n",
    "\n",
    "# パッケージのインストール\n",
    "> renv::install(\"pkg\") \n",
    "\n",
    "# Rscriptにlibrary(\"pkg\")と書いて保存する\n",
    "\n",
    "# インストール状況の確認\n",
    "> renv::status()\n",
    "\n",
    "# インストール状況をrenv.lockファイルに書き出す\n",
    "> renv::snapshot()\n",
    "```"
   ]
  },
  {
   "cell_type": "code",
   "execution_count": null,
   "metadata": {},
   "outputs": [],
   "source": []
  }
 ],
 "metadata": {
  "kernelspec": {
   "display_name": "R",
   "language": "R",
   "name": "ir"
  },
  "language_info": {
   "codemirror_mode": "r",
   "file_extension": ".r",
   "mimetype": "text/x-r-source",
   "name": "R",
   "pygments_lexer": "r",
   "version": "3.6.1"
  }
 },
 "nbformat": 4,
 "nbformat_minor": 2
}

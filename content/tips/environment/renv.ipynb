{
 "cells": [
  {
   "cell_type": "markdown",
   "metadata": {},
   "source": [
    "# renv\n",
    "\n",
    "Rのパッケージのバージョン管理は非常に難しいです。\n",
    "というのも、システムで一元管理されているため、プロジェクトごとに切り分ける事が困難であるからです。\n",
    "\n",
    "とはいえ、パッケージのバージョン管理をきちんと行わないと、バージョンあげたり、他の環境になったりした時にコードが動かなくなる事があります。最近、RStudio本家からrenvというパッケージバージョン管理を行う事ができるパッケージが開発されています。\n",
    "\n",
    "以前まとめた資料が以下になります。\n",
    "\n",
    "<script async class=\"speakerdeck-embed\" data-id=\"2182379304ad4e72ae6aeef562e7173b\" data-ratio=\"1.77777777777778\" src=\"//speakerdeck.com/assets/embed.js\"></script>"
   ]
  }
 ],
 "metadata": {
  "kernelspec": {
   "display_name": "R",
   "language": "R",
   "name": "ir"
  },
  "language_info": {
   "codemirror_mode": "r",
   "file_extension": ".r",
   "mimetype": "text/x-r-source",
   "name": "R",
   "pygments_lexer": "r",
   "version": "3.6.1"
  }
 },
 "nbformat": 4,
 "nbformat_minor": 2
}
